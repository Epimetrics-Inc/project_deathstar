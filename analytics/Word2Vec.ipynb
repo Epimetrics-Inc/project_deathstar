{
 "cells": [
  {
   "cell_type": "code",
   "execution_count": 1,
   "metadata": {},
   "outputs": [
    {
     "name": "stderr",
     "output_type": "stream",
     "text": [
      "Using TensorFlow backend.\n"
     ]
    }
   ],
   "source": [
    "import gensim\n",
    "from gensim.models import KeyedVectors"
   ]
  },
  {
   "cell_type": "code",
   "execution_count": 2,
   "metadata": {
    "collapsed": true
   },
   "outputs": [],
   "source": [
    "model = KeyedVectors.load_word2vec_format('wikipedia-pubmed-and-PMC-w2v.bin',binary=True)"
   ]
  },
  {
   "cell_type": "code",
   "execution_count": 4,
   "metadata": {},
   "outputs": [],
   "source": [
    "print(model.most_similar(positive=['mother', 'child']))"
   ]
  },
  {
   "cell_type": "code",
   "execution_count": 5,
   "metadata": {
    "collapsed": true
   },
   "outputs": [],
   "source": [
    "import pandas as pd\n",
    "df_mnchn = pd.read_csv('mnchn.csv')\n",
    "df_specpop = pd.read_csv('spec_pop.csv')\n",
    "df_ado = pd.read_csv('adolescent.csv')\n",
    "df_ger = pd.read_csv('geriatric.csv')"
   ]
  },
  {
   "cell_type": "code",
   "execution_count": 46,
   "metadata": {},
   "outputs": [],
   "source": [
    "import re\n",
    "\n",
    "df_mnchn['VEC'] = ''\n",
    "df_specpop['VEC'] = ''\n",
    "df_ado['VEC'] = ''\n",
    "df_ger['VEC'] = ''\n",
    "\n",
    "for i, r in df_mnchn.iterrows():\n",
    "    query = r['Keywords'].split()\n",
    "    w = filter(lambda x: x in model.vocab, query)\n",
    "    r['VEC'] = ' '.join([i[0] for i in model.most_similar(positive=w)])\n",
    "    \n",
    "\n",
    "for i, r in df_specpop.iterrows():\n",
    "    query = r['Keywords'].split()\n",
    "    w = filter(lambda x: x in model.vocab, query)\n",
    "    r['VEC'] = ' '.join([i[0] for i in model.most_similar(positive=w)])\n",
    "    \n",
    "\n",
    "for i, r in df_ado.iterrows():\n",
    "    query = r['Keywords'].split()\n",
    "    w = filter(lambda x: x in model.vocab, query)\n",
    "    r['VEC'] = ' '.join([i[0] for i in model.most_similar(positive=w)])\n",
    "    \n",
    "\n",
    "for i, r in df_ger.iterrows():\n",
    "    query = r['Keywords'].split()\n",
    "    w = filter(lambda x: x in model.vocab, query)\n",
    "    r['VEC'] = ' '.join([i[0] for i in model.most_similar(positive=w)])"
   ]
  },
  {
   "cell_type": "code",
   "execution_count": 49,
   "metadata": {},
   "outputs": [],
   "source": [
    "df_mnchn.to_csv('mnchn.csv', index=False)\n",
    "df_specpop.to_csv('specpop.csv', index=False)\n",
    "df_ado.to_csv('adolescent.csv', index=False)\n",
    "df_ger.to_csv('geriatrics.csv', index=False)"
   ]
  },
  {
   "cell_type": "code",
   "execution_count": null,
   "metadata": {
    "collapsed": true
   },
   "outputs": [],
   "source": []
  }
 ],
 "metadata": {
  "kernelspec": {
   "display_name": "Python 3",
   "language": "python",
   "name": "python3"
  },
  "language_info": {
   "codemirror_mode": {
    "name": "ipython",
    "version": 3
   },
   "file_extension": ".py",
   "mimetype": "text/x-python",
   "name": "python",
   "nbconvert_exporter": "python",
   "pygments_lexer": "ipython3",
   "version": "3.6.2"
  }
 },
 "nbformat": 4,
 "nbformat_minor": 2
}
